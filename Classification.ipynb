{
 "cells": [
  {
   "cell_type": "code",
   "execution_count": 2,
   "id": "05d261c8-6d31-4ea6-980f-c6db005d8bb9",
   "metadata": {},
   "outputs": [
    {
     "name": "stdout",
     "output_type": "stream",
     "text": [
      "Requirement already satisfied: nbimporter in c:\\users\\rrcg\\appdata\\local\\miniconda3\\lib\\site-packages (0.3.4)\n"
     ]
    }
   ],
   "source": [
    "#!pip install nbimporter"
   ]
  },
  {
   "cell_type": "code",
   "execution_count": 3,
   "id": "cd884f04-5534-4628-b5be-90d68fc941dc",
   "metadata": {},
   "outputs": [],
   "source": [
    "import nbimporter\n",
    "import Functions\n",
    "import warnings\n",
    "warnings.filterwarnings('ignore')"
   ]
  },
  {
   "cell_type": "code",
   "execution_count": 4,
   "id": "4bf6a68c-54c2-4e52-877e-2e00b2724dc7",
   "metadata": {},
   "outputs": [],
   "source": [
    "modelo = Functions.joblib.load('rforest_final.joblib')"
   ]
  },
  {
   "cell_type": "code",
   "execution_count": 7,
   "id": "bd7d4fbe-40e7-4593-954e-b3d9198bfc21",
   "metadata": {},
   "outputs": [],
   "source": [
    "%store -r lineas_espectrales"
   ]
  },
  {
   "cell_type": "code",
   "execution_count": 8,
   "id": "ad987aef-697c-4010-a981-1e5f950add2c",
   "metadata": {},
   "outputs": [
    {
     "data": {
      "text/plain": [
       "1"
      ]
     },
     "execution_count": 8,
     "metadata": {},
     "output_type": "execute_result"
    }
   ],
   "source": [
    "Functions.evalua_estrella(Functions.extrae_estrella(\"..\\\\Catalogos\\\\vizier\\\\C-CW-W\\\\Briceño+Hernandez\\\\Classic\\\\fits\\\\spec-56617-VB081S05V1_sp06-160.fits\",lineas_espectrales),modelo)"
   ]
  },
  {
   "cell_type": "code",
   "execution_count": null,
   "id": "37497a8b-2738-43f5-ad1d-ac982cc8ec30",
   "metadata": {},
   "outputs": [],
   "source": []
  },
  {
   "cell_type": "code",
   "execution_count": null,
   "id": "344e4cbd-66ad-4dda-b949-d63067c1fd3c",
   "metadata": {},
   "outputs": [],
   "source": []
  }
 ],
 "metadata": {
  "kernelspec": {
   "display_name": "Python 3 (ipykernel)",
   "language": "python",
   "name": "python3"
  },
  "language_info": {
   "codemirror_mode": {
    "name": "ipython",
    "version": 3
   },
   "file_extension": ".py",
   "mimetype": "text/x-python",
   "name": "python",
   "nbconvert_exporter": "python",
   "pygments_lexer": "ipython3",
   "version": "3.11.5"
  }
 },
 "nbformat": 4,
 "nbformat_minor": 5
}
